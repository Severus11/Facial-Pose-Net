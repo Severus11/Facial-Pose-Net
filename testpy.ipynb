{
 "metadata": {
  "language_info": {
   "codemirror_mode": {
    "name": "ipython",
    "version": 3
   },
   "file_extension": ".py",
   "mimetype": "text/x-python",
   "name": "python",
   "nbconvert_exporter": "python",
   "pygments_lexer": "ipython3",
   "version": "3.7.5"
  },
  "orig_nbformat": 2,
  "kernelspec": {
   "name": "python375jvsc74a57bd004635d289a519a1410467dd0afb0db42f9184808881ca68b2eb5a687a20a5a94",
   "display_name": "Python 3.7.5 64-bit"
  }
 },
 "nbformat": 4,
 "nbformat_minor": 2,
 "cells": [
  {
   "cell_type": "code",
   "execution_count": 1,
   "metadata": {},
   "outputs": [],
   "source": [
    "import cv2\n",
    "import numpy as np\n",
    "import matplotlib.pyplot as plt\n",
    "from model import Facial_Pose_Net_model"
   ]
  },
  {
   "cell_type": "code",
   "execution_count": 2,
   "metadata": {},
   "outputs": [],
   "source": [
    "faceCas = cv2.CascadeClassifier('detector_architectures\\haarcascade_frontalface_default.xml')\n",
    "model = Facial_Pose_Net_model('model_new_latest.json', 'model_weights_LATEST.h5')"
   ]
  },
  {
   "cell_type": "code",
   "execution_count": null,
   "metadata": {},
   "outputs": [],
   "source": [
    "\n",
    "fr= cv2.imread('WIN_20210416_19_44_13_Pro.jpg')\n",
    "#gray_fr = cv2.cvtColor(fr, cv2.COLOR_BGR2GRAY)\n",
    "faces = faceCas.detectMultiScale(fr, 1.3, 5)"
   ]
  }
 ]
}